{
 "cells": [
  {
   "cell_type": "code",
   "execution_count": null,
   "metadata": {},
   "outputs": [],
   "source": [
    "import os\n",
    "import re\n",
    "import textwrap\n",
    "import warnings\n",
    "import pyperclip\n",
    "import soundfile as sf\n",
    "from pynput import keyboard\n",
    "from plyer import notification\n",
    "from playsound import playsound\n",
    "from num2words import num2words\n",
    "from transformers import BigBirdPegasusForConditionalGeneration, AutoTokenizer\n",
    "\n",
    "# this is \n",
    "os.environ['CUDA_VISIBLE_DEVICES'] = '-1'\n",
    "os.system(\"export CUDA_VISIBLE_DEVICES=\\\"\\\"\")"
   ]
  },
  {
   "attachments": {},
   "cell_type": "markdown",
   "metadata": {},
   "source": [
    "** SUMMERIZATION models"
   ]
  },
  {
   "cell_type": "code",
   "execution_count": null,
   "metadata": {},
   "outputs": [],
   "source": [
    "# # facebook/bart-large-cnn\n",
    "# from transformers import pipeline\n",
    "# summarizer = pipeline(\"summarization\", model=\"facebook/bart-large-cnn\")\n",
    "# def facebook_bart_large_cnn(text):\n",
    "#     summary = summarizer(text, max_length=20 if len(text.split())<=50 else 70, min_length=10, do_sample=False)\n",
    "#     return summary[0]['summary_text']"
   ]
  },
  {
   "cell_type": "code",
   "execution_count": null,
   "metadata": {},
   "outputs": [],
   "source": [
    "# google/bigbird-pegasus-large-bigpatent\n",
    "summarytokenizer = AutoTokenizer.from_pretrained(\"google/bigbird-pegasus-large-bigpatent\")\n",
    "summarymodel = BigBirdPegasusForConditionalGeneration.from_pretrained(\"google/bigbird-pegasus-large-bigpatent\", attention_type=\"original_full\")\n",
    "def google_bigbird_pegasus_large_bigpatent(text):\n",
    "    inputs = summarytokenizer(text, return_tensors='pt')\n",
    "    summaryprediction = summarymodel.generate(**inputs)\n",
    "    thesummary = summarytokenizer.batch_decode(summaryprediction)\n",
    "    return thesummary[0].replace('<s>', '').replace('</s>', '').strip()"
   ]
  },
  {
   "attachments": {},
   "cell_type": "markdown",
   "metadata": {},
   "source": [
    "** Text To Speech models"
   ]
  },
  {
   "cell_type": "code",
   "execution_count": null,
   "metadata": {},
   "outputs": [],
   "source": [
    "# # microsoft/speecht5_tts\n",
    "# import torch\n",
    "# from datasets import load_dataset\n",
    "# from transformers import SpeechT5Processor, SpeechT5ForTextToSpeech, SpeechT5HifiGan\n",
    "# processor = SpeechT5Processor.from_pretrained(\"microsoft/speecht5_tts\")\n",
    "# model = SpeechT5ForTextToSpeech.from_pretrained(\"microsoft/speecht5_tts\")\n",
    "# vocoder = SpeechT5HifiGan.from_pretrained(\"microsoft/speecht5_hifigan\")\n",
    "# embeddings_dataset = load_dataset(\"Matthijs/cmu-arctic-xvectors\", split=\"validation\")\n",
    "# speaker_embeddings = torch.tensor(embeddings_dataset[7306][\"xvector\"]).unsqueeze(0)\n",
    "\n",
    "# def microsoft_speecht5_tts(text):\n",
    "#     inputs = processor(text=text, return_tensors=\"pt\")\n",
    "#     return model.generate_speech(inputs[\"input_ids\"], speaker_embeddings, vocoder=vocoder), 22000"
   ]
  },
  {
   "cell_type": "code",
   "execution_count": null,
   "metadata": {},
   "outputs": [],
   "source": [
    "# facebook/fastspeech2-en-ljspeech\n",
    "from fairseq.checkpoint_utils import load_model_ensemble_and_task_from_hf_hub\n",
    "from fairseq.models.text_to_speech.hub_interface import TTSHubInterface\n",
    "fairseqmodels, fairseqcfg, fairseqtask = load_model_ensemble_and_task_from_hf_hub(\n",
    "    \"facebook/fastspeech2-en-ljspeech\",\n",
    "    arg_overrides={\"vocoder\": \"hifigan\", \"fp16\": False}\n",
    ")\n",
    "fairseqmodel = fairseqmodels[0].to('cpu')\n",
    "TTSHubInterface.update_cfg_with_data_cfg(fairseqcfg, fairseqtask.data_cfg)\n",
    "generator = fairseqtask.build_generator(fairseqmodels, fairseqcfg)\n",
    "\n",
    "def facebook_fastspeech2_en_ljspeech(text):\n",
    "    sample = TTSHubInterface.get_model_input(fairseqtask, text)\n",
    "    return TTSHubInterface.get_prediction(fairseqtask, fairseqmodel, generator, sample)"
   ]
  },
  {
   "cell_type": "code",
   "execution_count": null,
   "metadata": {},
   "outputs": [],
   "source": [
    "def show_notification(title, message):\n",
    "    notification.notify(\n",
    "        title=title,\n",
    "        message=message,\n",
    "        timeout=10\n",
    "    )"
   ]
  },
  {
   "cell_type": "code",
   "execution_count": null,
   "metadata": {},
   "outputs": [],
   "source": [
    "def summerize(text):\n",
    "    print(len(text.split()))\n",
    "    print(textwrap.fill(text, 80))\n",
    "\n",
    "    # return facebook_bart_large_cnn(text)\n",
    "    return google_bigbird_pegasus_large_bigpatent(text)"
   ]
  },
  {
   "cell_type": "code",
   "execution_count": null,
   "metadata": {},
   "outputs": [],
   "source": [
    "def readoutload(text):\n",
    "    # wav, rate = microsoft_speecht5_tts(text)\n",
    "    wav, rate = facebook_fastspeech2_en_ljspeech(text)\n",
    "    \n",
    "    sf.write(\"nowgeneratedspeechforstudy.wav\", wav, samplerate=rate)\n",
    "    show_notification(\"summary\", text)\n",
    "    playsound(\"nowgeneratedspeechforstudy.wav\")"
   ]
  },
  {
   "cell_type": "code",
   "execution_count": null,
   "metadata": {},
   "outputs": [],
   "source": [
    "def convert_numbers_to_text(text):\n",
    "    # Regular expression pattern to match numbers\n",
    "    pattern = r'\\b\\d+\\b'\n",
    "    \n",
    "    def replace(match):\n",
    "        number = int(match.group())\n",
    "        return num2words(number)\n",
    "    \n",
    "    # Replace numbers in the text with their textual representation\n",
    "    converted_text = re.sub(pattern, replace, text)\n",
    "\n",
    "    return converted_text\n",
    "\n",
    "def preprocesstext(text):\n",
    "    text = text.strip()\n",
    "    text = text.replace('-\\n', '')\n",
    "    text = text.replace('\\n', ' ')\n",
    "    \n",
    "    text = convert_numbers_to_text(text)\n",
    "    # text = text.replace(\".\", \",\").replace(\"!\", \",\").replace(\"?\", \",\").replace(\":\", \",\").replace(\";\", \",\")\n",
    "    text = text.replace(\"(\",',').replace(\")\",',').replace(\"[\",',').replace(\"]\",',').replace(\"{\",',').replace(\"}\",',')\n",
    "    text = text.replace('\"',',').replace(\"“\",',').replace(\"”\",',')\n",
    "    text = text.replace(\"-\",' ').replace(\"_\",' ').replace(\"—\",' ').replace(\"–\",' ').replace(\"…\",' ')\n",
    "    \n",
    "    return text"
   ]
  },
  {
   "cell_type": "code",
   "execution_count": null,
   "metadata": {},
   "outputs": [],
   "source": [
    "prev_originaltext = ''\n",
    "def generatebytext(originaltext, mode):\n",
    "    global prev_originaltext\n",
    "    originaltext = preprocesstext(originaltext)\n",
    "\n",
    "    if mode == 'stts':\n",
    "        if originaltext != prev_originaltext:\n",
    "            \n",
    "            thesummary = originaltext if len(originaltext.split())<=10 else summerize(originaltext)\n",
    "            thesummarysplitted = [substr for substr in re.split(r\"[.!?;:]\", thesummary) if substr]\n",
    "            print(thesummarysplitted)\n",
    "            for tmptext in thesummarysplitted: readoutload(tmptext)\n",
    "            prev_originaltext = thesummary\n",
    "    elif mode == 'tts':\n",
    "        if originaltext != prev_originaltext:\n",
    "            thesummarysplitted = [substr for substr in re.split(r\"[.!?;:]\", originaltext) if substr]\n",
    "            print(thesummarysplitted)\n",
    "            for tmptext in thesummarysplitted: readoutload(tmptext)\n",
    "            prev_originaltext = originaltext\n"
   ]
  },
  {
   "cell_type": "code",
   "execution_count": null,
   "metadata": {},
   "outputs": [],
   "source": [
    "# Global variables to track key presses\n",
    "alt_pressed = False\n",
    "t_pressed = False\n",
    "s_pressed = False\n",
    "\n",
    "def on_key_press(key):\n",
    "    global alt_pressed, t_pressed, s_pressed\n",
    "\n",
    "    try:\n",
    "        if hasattr(key, 'name') and key.name == 'alt_r' or hasattr(key, 'name') and key.name == 'alt_l':\n",
    "            alt_pressed = True\n",
    "        elif hasattr(key, 'char') and key.char == 't' and alt_pressed:\n",
    "            t_pressed = True\n",
    "        elif hasattr(key, 'char') and key.char == 's' and alt_pressed and t_pressed:\n",
    "            s_pressed = True\n",
    "    except AttributeError:\n",
    "        pass\n",
    "\n",
    "def on_key_release(key):\n",
    "    global alt_pressed, t_pressed, s_pressed\n",
    "\n",
    "    if hasattr(key, 'name') and key.name == 'alt_r' or hasattr(key, 'name') and key.name == 'alt_l':\n",
    "        # print('alt', alt_pressed)\n",
    "        alt_pressed = False\n",
    "    elif hasattr(key, 'char') and key.char == 't':\n",
    "        # print('t', t_pressed)\n",
    "        t_pressed = False\n",
    "    elif hasattr(key, 'char') and key.char == 's':\n",
    "        # print('s', s_pressed)\n",
    "        # print(alt_pressed, t_pressed, s_pressed)\n",
    "\n",
    "        if alt_pressed and t_pressed and hasattr(key, 'char') and key.char == 's':\n",
    "            highlighted_text = pyperclip.paste()\n",
    "            # print('process_highlighted_text')\n",
    "            process_highlighted_text(highlighted_text, mode='stts')\n",
    "            alt_pressed = False\n",
    "            t_pressed = False\n",
    "            s_pressed = False\n",
    "        elif alt_pressed and hasattr(key, 'char') and key.char == 's':\n",
    "            highlighted_text = pyperclip.paste()\n",
    "            # print('process_highlighted_text')\n",
    "            process_highlighted_text(highlighted_text, mode='tts')\n",
    "            alt_pressed = False\n",
    "            t_pressed = False\n",
    "            s_pressed = False\n",
    "\n",
    "def process_highlighted_text(text, mode):\n",
    "    # Replace this with your custom function to process the highlighted text\n",
    "    print(\"Highlighted text:\", text)\n",
    "    generatebytext(text, mode)\n",
    "\n",
    "# Create a listener for keyboard events\n",
    "listener = keyboard.Listener(on_press=on_key_press, on_release=on_key_release)\n",
    "listener.start()\n",
    "\n",
    "# Keep the script running until interrupted\n",
    "listener.join()"
   ]
  }
 ],
 "metadata": {
  "kernelspec": {
   "display_name": "base",
   "language": "python",
   "name": "python3"
  },
  "language_info": {
   "codemirror_mode": {
    "name": "ipython",
    "version": 3
   },
   "file_extension": ".py",
   "mimetype": "text/x-python",
   "name": "python",
   "nbconvert_exporter": "python",
   "pygments_lexer": "ipython3",
   "version": "3.9.16"
  },
  "orig_nbformat": 4
 },
 "nbformat": 4,
 "nbformat_minor": 2
}
